{
 "cells": [
  {
   "cell_type": "code",
   "execution_count": 5,
   "id": "40b63ec1",
   "metadata": {},
   "outputs": [
    {
     "ename": "ImportError",
     "evalue": "cannot import name 'StaleElementReferenceException' from 'selenium' (C:\\ProgramData\\Anaconda3\\lib\\site-packages\\selenium\\__init__.py)",
     "output_type": "error",
     "traceback": [
      "\u001b[1;31m---------------------------------------------------------------------------\u001b[0m",
      "\u001b[1;31mImportError\u001b[0m                               Traceback (most recent call last)",
      "Input \u001b[1;32mIn [5]\u001b[0m, in \u001b[0;36m<cell line: 2>\u001b[1;34m()\u001b[0m\n\u001b[0;32m      1\u001b[0m \u001b[38;5;28;01mimport\u001b[39;00m \u001b[38;5;21;01mtime\u001b[39;00m\n\u001b[1;32m----> 2\u001b[0m \u001b[38;5;28;01mfrom\u001b[39;00m \u001b[38;5;21;01mselenium\u001b[39;00m \u001b[38;5;28;01mimport\u001b[39;00m StaleElementReferenceException\n\u001b[0;32m      3\u001b[0m \u001b[38;5;28;01mfrom\u001b[39;00m \u001b[38;5;21;01mselenium\u001b[39;00m \u001b[38;5;28;01mimport\u001b[39;00m webdriver\n\u001b[0;32m      4\u001b[0m \u001b[38;5;28;01mfrom\u001b[39;00m \u001b[38;5;21;01mselenium\u001b[39;00m\u001b[38;5;21;01m.\u001b[39;00m\u001b[38;5;21;01mwebdriver\u001b[39;00m\u001b[38;5;21;01m.\u001b[39;00m\u001b[38;5;21;01mchrome\u001b[39;00m\u001b[38;5;21;01m.\u001b[39;00m\u001b[38;5;21;01mservice\u001b[39;00m \u001b[38;5;28;01mimport\u001b[39;00m Service\n",
      "\u001b[1;31mImportError\u001b[0m: cannot import name 'StaleElementReferenceException' from 'selenium' (C:\\ProgramData\\Anaconda3\\lib\\site-packages\\selenium\\__init__.py)"
     ]
    }
   ],
   "source": [
    "import time\n",
    "from selenium import webdriver\n",
    "from selenium.webdriver.chrome.service import Service\n",
    "from webdriver_manager.chrome import ChromeDriverManager\n",
    "from selenium.webdriver.common.by import By\n",
    "from selenium.webdriver import ActionChains\n",
    "from selenium.webdriver.support.ui import WebDriverWait\n",
    "from selenium.webdriver.support import expected_conditions as EC\n",
    "from selenium.webdriver.common.keys import Keys\n",
    "import pandas as pd"
   ]
  },
  {
   "cell_type": "code",
   "execution_count": 2,
   "id": "aa655954",
   "metadata": {},
   "outputs": [],
   "source": [
    "class Scrapper:\n",
    "    \n",
    "    def total_page_counter(self,arg):\n",
    "        \"\"\"Gets number of pages . arg = driver \"\"\"\n",
    "        driver = arg\n",
    "        total_page_xpath = \"//*[@id=\\\"app\\\"]/search/search_tender/div[3]/div/tender-table/pagination/div[1]/div\"\n",
    "        total_page = driver.find_element(By.XPATH, total_page_xpath)\n",
    "        r = total_page.text[10:20]\n",
    "        total_page_count = int(''.join(x for x in r if x.isdigit()))\n",
    "        return total_page_count\n",
    "\n",
    "\n",
    "\n",
    "    def get_data_page(self,driver,rows,column,counter):\n",
    "        \"\"\"Gets data from one page, writes to csv  and clicks the next page button\"\"\"\n",
    "\n",
    "        table_data = []\n",
    "        for r in range(1,rows+1):\n",
    "            row_data = []\n",
    "\n",
    "            for c in range(1,column+1):   \n",
    "                value = driver.find_element(By.XPATH,\"//*[@id=\\\"table-top\\\"]/tbody/tr[\"+str(r)+\"]/td[\"+str(c)+\"]\" ).text.strip()\n",
    "                row_data.append(value)\n",
    "\n",
    "            table_data.append(row_data)\n",
    "\n",
    "            #write the table_data to csv\n",
    "            df = pd.DataFrame(table_data)\n",
    "            df.to_csv(f'file{counter}.csv',index = False)\n",
    "\n",
    "        next_page_button = driver.find_element(By.CLASS_NAME, \"page-next\")\n",
    "        webdriver.ActionChains(driver).move_to_element(next_page_button).click(next_page_button).perform()\n",
    "        time.sleep(2)\n",
    "\n",
    "            \n",
    "            \n",
    "            \n",
    "\n",
    "\n",
    "\n",
    "    def scrap_all(self,d,r,c):\n",
    "        \"\"\"arg1 -> driver , arg2 -> rows, arg3 -> column\"\"\"\n",
    "#         c=column\n",
    "#         r=rows\n",
    "#         d=driver\n",
    "        total_page_count = self.total_page_counter(d)\n",
    "        counter = 1\n",
    "        while counter <=total_page_count:\n",
    "            self.get_data_page(d,r,c,counter)\n",
    "            counter+=1\n",
    "            \n",
    "            \n",
    "            \n",
    "    def start(self):\n",
    "        driver = webdriver.Chrome(service=Service(ChromeDriverManager().install()))\n",
    "        driver.get(\"https://opentender.eu/all/search/tender\")\n",
    "\n",
    "        time.sleep(2) #waiting for page to load \n",
    "\n",
    "        #for hidden elements\n",
    "        #driver.set_window_size(1024, 600)\n",
    "        #driver.maximize_window()\n",
    "\n",
    "\n",
    "        # Can use this to select more column fields, for now i am only extracting the basic data without selecting any columns.\n",
    "        \"\"\"\n",
    "        column_button_xpath = \"XPATH of column field to add\"\n",
    "        column_button_element = driver.find_element(By.XPATH, column_button_xpath)\n",
    "        webdriver.ActionChains(driver).move_to_element(column_button_element).click(column_button_element).perform()\n",
    "        \n",
    "        \"\"\"\n",
    "\n",
    "        #selecting 100 rows. per page\n",
    "        more_result_xpath = \"//*[@id=\\\"entriesonpage\\\"]\"\n",
    "        result_element = driver.find_element(By.XPATH, more_result_xpath)\n",
    "        webdriver.ActionChains(driver).move_to_element(result_element ).click(result_element).perform()\n",
    "\n",
    "        result_element.send_keys(Keys.ARROW_DOWN)\n",
    "        result_element.send_keys(Keys.ARROW_DOWN)\n",
    "        result_element.send_keys(Keys.ARROW_DOWN)\n",
    "        result_element.send_keys(Keys.ENTER)\n",
    "\n",
    "\n",
    "        time.sleep(2) #waiting for all the 100 rows to load\n",
    "        \n",
    "        table_rows_xpath = \"//*[@id=\\\"table-top\\\"]/tbody/tr\"\n",
    "        table_rows_element = driver.find_elements(By.XPATH, table_rows_xpath)\n",
    "\n",
    "        rows = len(table_rows_element) #count number of rows\n",
    "\n",
    "        td_xpath = \"//*[@id=\\\"table-top\\\"]/tbody/tr[1]/td\"\n",
    "        column = len(driver.find_elements(By.XPATH, td_xpath)) #count number of columns in each row\n",
    "        \n",
    "        \n",
    "        \n",
    "        self.scrap_all(driver,rows,column)\n",
    "        \n",
    "\n",
    "\n",
    "\n",
    "\n",
    "\n",
    "\n"
   ]
  },
  {
   "cell_type": "code",
   "execution_count": 3,
   "id": "220d180a",
   "metadata": {},
   "outputs": [],
   "source": [
    "a = Scrapper()"
   ]
  },
  {
   "cell_type": "code",
   "execution_count": 4,
   "id": "4ab53201",
   "metadata": {
    "collapsed": true
   },
   "outputs": [
    {
     "ename": "StaleElementReferenceException",
     "evalue": "Message: stale element reference: element is not attached to the page document\n  (Session info: chrome=105.0.5195.102)\nStacktrace:\nBacktrace:\n\tOrdinal0 [0x0065DF13+2219795]\n\tOrdinal0 [0x005F2841+1779777]\n\tOrdinal0 [0x0050423D+803389]\n\tOrdinal0 [0x00506D04+814340]\n\tOrdinal0 [0x00506BC2+814018]\n\tOrdinal0 [0x00506E50+814672]\n\tOrdinal0 [0x0052E91F+977183]\n\tOrdinal0 [0x0054E7FC+1107964]\n\tOrdinal0 [0x005294B4+955572]\n\tOrdinal0 [0x0054EA14+1108500]\n\tOrdinal0 [0x0055F192+1175954]\n\tOrdinal0 [0x0054E616+1107478]\n\tOrdinal0 [0x00527F89+950153]\n\tOrdinal0 [0x00528F56+954198]\n\tGetHandleVerifier [0x00952CB2+3040210]\n\tGetHandleVerifier [0x00942BB4+2974420]\n\tGetHandleVerifier [0x006F6A0A+565546]\n\tGetHandleVerifier [0x006F5680+560544]\n\tOrdinal0 [0x005F9A5C+1808988]\n\tOrdinal0 [0x005FE3A8+1827752]\n\tOrdinal0 [0x005FE495+1827989]\n\tOrdinal0 [0x006080A4+1867940]\n\tBaseThreadInitThunk [0x7637FA29+25]\n\tRtlGetAppContainerNamedObjectPath [0x77A975F4+228]\n\tRtlGetAppContainerNamedObjectPath [0x77A975C4+180]\n",
     "output_type": "error",
     "traceback": [
      "\u001b[1;31m---------------------------------------------------------------------------\u001b[0m",
      "\u001b[1;31mStaleElementReferenceException\u001b[0m            Traceback (most recent call last)",
      "Input \u001b[1;32mIn [4]\u001b[0m, in \u001b[0;36m<cell line: 1>\u001b[1;34m()\u001b[0m\n\u001b[1;32m----> 1\u001b[0m \u001b[43ma\u001b[49m\u001b[38;5;241;43m.\u001b[39;49m\u001b[43mstart\u001b[49m\u001b[43m(\u001b[49m\u001b[43m)\u001b[49m\n",
      "Input \u001b[1;32mIn [2]\u001b[0m, in \u001b[0;36mScrapper.start\u001b[1;34m(self)\u001b[0m\n\u001b[0;32m     86\u001b[0m td_xpath \u001b[38;5;241m=\u001b[39m \u001b[38;5;124m\"\u001b[39m\u001b[38;5;124m//*[@id=\u001b[39m\u001b[38;5;130;01m\\\"\u001b[39;00m\u001b[38;5;124mtable-top\u001b[39m\u001b[38;5;130;01m\\\"\u001b[39;00m\u001b[38;5;124m]/tbody/tr[1]/td\u001b[39m\u001b[38;5;124m\"\u001b[39m\n\u001b[0;32m     87\u001b[0m column \u001b[38;5;241m=\u001b[39m \u001b[38;5;28mlen\u001b[39m(driver\u001b[38;5;241m.\u001b[39mfind_elements(By\u001b[38;5;241m.\u001b[39mXPATH, td_xpath)) \u001b[38;5;66;03m#count number of columns in each row\u001b[39;00m\n\u001b[1;32m---> 91\u001b[0m \u001b[38;5;28;43mself\u001b[39;49m\u001b[38;5;241;43m.\u001b[39;49m\u001b[43mscrap_all\u001b[49m\u001b[43m(\u001b[49m\u001b[43mdriver\u001b[49m\u001b[43m,\u001b[49m\u001b[43mrows\u001b[49m\u001b[43m,\u001b[49m\u001b[43mcolumn\u001b[49m\u001b[43m)\u001b[49m\n",
      "Input \u001b[1;32mIn [2]\u001b[0m, in \u001b[0;36mScrapper.scrap_all\u001b[1;34m(self, d, r, c)\u001b[0m\n\u001b[0;32m     42\u001b[0m counter \u001b[38;5;241m=\u001b[39m \u001b[38;5;241m1\u001b[39m\n\u001b[0;32m     43\u001b[0m \u001b[38;5;28;01mwhile\u001b[39;00m counter \u001b[38;5;241m<\u001b[39m\u001b[38;5;241m=\u001b[39mtotal_page_count:\n\u001b[1;32m---> 44\u001b[0m     \u001b[38;5;28;43mself\u001b[39;49m\u001b[38;5;241;43m.\u001b[39;49m\u001b[43mget_data_page\u001b[49m\u001b[43m(\u001b[49m\u001b[43md\u001b[49m\u001b[43m,\u001b[49m\u001b[43mr\u001b[49m\u001b[43m,\u001b[49m\u001b[43mc\u001b[49m\u001b[43m,\u001b[49m\u001b[43mcounter\u001b[49m\u001b[43m)\u001b[49m\n\u001b[0;32m     45\u001b[0m     counter\u001b[38;5;241m+\u001b[39m\u001b[38;5;241m=\u001b[39m\u001b[38;5;241m1\u001b[39m\n",
      "Input \u001b[1;32mIn [2]\u001b[0m, in \u001b[0;36mScrapper.get_data_page\u001b[1;34m(self, driver, rows, column, counter)\u001b[0m\n\u001b[0;32m     18\u001b[0m row_data \u001b[38;5;241m=\u001b[39m []\n\u001b[0;32m     20\u001b[0m \u001b[38;5;28;01mfor\u001b[39;00m c \u001b[38;5;129;01min\u001b[39;00m \u001b[38;5;28mrange\u001b[39m(\u001b[38;5;241m1\u001b[39m,column\u001b[38;5;241m+\u001b[39m\u001b[38;5;241m1\u001b[39m):   \n\u001b[1;32m---> 21\u001b[0m     value \u001b[38;5;241m=\u001b[39m \u001b[43mdriver\u001b[49m\u001b[38;5;241;43m.\u001b[39;49m\u001b[43mfind_element\u001b[49m\u001b[43m(\u001b[49m\u001b[43mBy\u001b[49m\u001b[38;5;241;43m.\u001b[39;49m\u001b[43mXPATH\u001b[49m\u001b[43m,\u001b[49m\u001b[38;5;124;43m\"\u001b[39;49m\u001b[38;5;124;43m//*[@id=\u001b[39;49m\u001b[38;5;130;43;01m\\\"\u001b[39;49;00m\u001b[38;5;124;43mtable-top\u001b[39;49m\u001b[38;5;130;43;01m\\\"\u001b[39;49;00m\u001b[38;5;124;43m]/tbody/tr[\u001b[39;49m\u001b[38;5;124;43m\"\u001b[39;49m\u001b[38;5;241;43m+\u001b[39;49m\u001b[38;5;28;43mstr\u001b[39;49m\u001b[43m(\u001b[49m\u001b[43mr\u001b[49m\u001b[43m)\u001b[49m\u001b[38;5;241;43m+\u001b[39;49m\u001b[38;5;124;43m\"\u001b[39;49m\u001b[38;5;124;43m]/td[\u001b[39;49m\u001b[38;5;124;43m\"\u001b[39;49m\u001b[38;5;241;43m+\u001b[39;49m\u001b[38;5;28;43mstr\u001b[39;49m\u001b[43m(\u001b[49m\u001b[43mc\u001b[49m\u001b[43m)\u001b[49m\u001b[38;5;241;43m+\u001b[39;49m\u001b[38;5;124;43m\"\u001b[39;49m\u001b[38;5;124;43m]\u001b[39;49m\u001b[38;5;124;43m\"\u001b[39;49m\u001b[43m \u001b[49m\u001b[43m)\u001b[49m\u001b[38;5;241;43m.\u001b[39;49m\u001b[43mtext\u001b[49m\u001b[38;5;241m.\u001b[39mstrip()\n\u001b[0;32m     22\u001b[0m     row_data\u001b[38;5;241m.\u001b[39mappend(value)\n\u001b[0;32m     24\u001b[0m table_data\u001b[38;5;241m.\u001b[39mappend(row_data)\n",
      "File \u001b[1;32mC:\\ProgramData\\Anaconda3\\lib\\site-packages\\selenium\\webdriver\\remote\\webelement.py:84\u001b[0m, in \u001b[0;36mWebElement.text\u001b[1;34m(self)\u001b[0m\n\u001b[0;32m     81\u001b[0m \u001b[38;5;129m@property\u001b[39m\n\u001b[0;32m     82\u001b[0m \u001b[38;5;28;01mdef\u001b[39;00m \u001b[38;5;21mtext\u001b[39m(\u001b[38;5;28mself\u001b[39m) \u001b[38;5;241m-\u001b[39m\u001b[38;5;241m>\u001b[39m \u001b[38;5;28mstr\u001b[39m:\n\u001b[0;32m     83\u001b[0m     \u001b[38;5;124;03m\"\"\"The text of the element.\"\"\"\u001b[39;00m\n\u001b[1;32m---> 84\u001b[0m     \u001b[38;5;28;01mreturn\u001b[39;00m \u001b[38;5;28;43mself\u001b[39;49m\u001b[38;5;241;43m.\u001b[39;49m\u001b[43m_execute\u001b[49m\u001b[43m(\u001b[49m\u001b[43mCommand\u001b[49m\u001b[38;5;241;43m.\u001b[39;49m\u001b[43mGET_ELEMENT_TEXT\u001b[49m\u001b[43m)\u001b[49m[\u001b[38;5;124m'\u001b[39m\u001b[38;5;124mvalue\u001b[39m\u001b[38;5;124m'\u001b[39m]\n",
      "File \u001b[1;32mC:\\ProgramData\\Anaconda3\\lib\\site-packages\\selenium\\webdriver\\remote\\webelement.py:396\u001b[0m, in \u001b[0;36mWebElement._execute\u001b[1;34m(self, command, params)\u001b[0m\n\u001b[0;32m    394\u001b[0m     params \u001b[38;5;241m=\u001b[39m {}\n\u001b[0;32m    395\u001b[0m params[\u001b[38;5;124m'\u001b[39m\u001b[38;5;124mid\u001b[39m\u001b[38;5;124m'\u001b[39m] \u001b[38;5;241m=\u001b[39m \u001b[38;5;28mself\u001b[39m\u001b[38;5;241m.\u001b[39m_id\n\u001b[1;32m--> 396\u001b[0m \u001b[38;5;28;01mreturn\u001b[39;00m \u001b[38;5;28;43mself\u001b[39;49m\u001b[38;5;241;43m.\u001b[39;49m\u001b[43m_parent\u001b[49m\u001b[38;5;241;43m.\u001b[39;49m\u001b[43mexecute\u001b[49m\u001b[43m(\u001b[49m\u001b[43mcommand\u001b[49m\u001b[43m,\u001b[49m\u001b[43m \u001b[49m\u001b[43mparams\u001b[49m\u001b[43m)\u001b[49m\n",
      "File \u001b[1;32mC:\\ProgramData\\Anaconda3\\lib\\site-packages\\selenium\\webdriver\\remote\\webdriver.py:428\u001b[0m, in \u001b[0;36mWebDriver.execute\u001b[1;34m(self, driver_command, params)\u001b[0m\n\u001b[0;32m    426\u001b[0m response \u001b[38;5;241m=\u001b[39m \u001b[38;5;28mself\u001b[39m\u001b[38;5;241m.\u001b[39mcommand_executor\u001b[38;5;241m.\u001b[39mexecute(driver_command, params)\n\u001b[0;32m    427\u001b[0m \u001b[38;5;28;01mif\u001b[39;00m response:\n\u001b[1;32m--> 428\u001b[0m     \u001b[38;5;28;43mself\u001b[39;49m\u001b[38;5;241;43m.\u001b[39;49m\u001b[43merror_handler\u001b[49m\u001b[38;5;241;43m.\u001b[39;49m\u001b[43mcheck_response\u001b[49m\u001b[43m(\u001b[49m\u001b[43mresponse\u001b[49m\u001b[43m)\u001b[49m\n\u001b[0;32m    429\u001b[0m     response[\u001b[38;5;124m'\u001b[39m\u001b[38;5;124mvalue\u001b[39m\u001b[38;5;124m'\u001b[39m] \u001b[38;5;241m=\u001b[39m \u001b[38;5;28mself\u001b[39m\u001b[38;5;241m.\u001b[39m_unwrap_value(\n\u001b[0;32m    430\u001b[0m         response\u001b[38;5;241m.\u001b[39mget(\u001b[38;5;124m'\u001b[39m\u001b[38;5;124mvalue\u001b[39m\u001b[38;5;124m'\u001b[39m, \u001b[38;5;28;01mNone\u001b[39;00m))\n\u001b[0;32m    431\u001b[0m     \u001b[38;5;28;01mreturn\u001b[39;00m response\n",
      "File \u001b[1;32mC:\\ProgramData\\Anaconda3\\lib\\site-packages\\selenium\\webdriver\\remote\\errorhandler.py:243\u001b[0m, in \u001b[0;36mErrorHandler.check_response\u001b[1;34m(self, response)\u001b[0m\n\u001b[0;32m    241\u001b[0m         alert_text \u001b[38;5;241m=\u001b[39m value[\u001b[38;5;124m'\u001b[39m\u001b[38;5;124malert\u001b[39m\u001b[38;5;124m'\u001b[39m]\u001b[38;5;241m.\u001b[39mget(\u001b[38;5;124m'\u001b[39m\u001b[38;5;124mtext\u001b[39m\u001b[38;5;124m'\u001b[39m)\n\u001b[0;32m    242\u001b[0m     \u001b[38;5;28;01mraise\u001b[39;00m exception_class(message, screen, stacktrace, alert_text)  \u001b[38;5;66;03m# type: ignore[call-arg]  # mypy is not smart enough here\u001b[39;00m\n\u001b[1;32m--> 243\u001b[0m \u001b[38;5;28;01mraise\u001b[39;00m exception_class(message, screen, stacktrace)\n",
      "\u001b[1;31mStaleElementReferenceException\u001b[0m: Message: stale element reference: element is not attached to the page document\n  (Session info: chrome=105.0.5195.102)\nStacktrace:\nBacktrace:\n\tOrdinal0 [0x0065DF13+2219795]\n\tOrdinal0 [0x005F2841+1779777]\n\tOrdinal0 [0x0050423D+803389]\n\tOrdinal0 [0x00506D04+814340]\n\tOrdinal0 [0x00506BC2+814018]\n\tOrdinal0 [0x00506E50+814672]\n\tOrdinal0 [0x0052E91F+977183]\n\tOrdinal0 [0x0054E7FC+1107964]\n\tOrdinal0 [0x005294B4+955572]\n\tOrdinal0 [0x0054EA14+1108500]\n\tOrdinal0 [0x0055F192+1175954]\n\tOrdinal0 [0x0054E616+1107478]\n\tOrdinal0 [0x00527F89+950153]\n\tOrdinal0 [0x00528F56+954198]\n\tGetHandleVerifier [0x00952CB2+3040210]\n\tGetHandleVerifier [0x00942BB4+2974420]\n\tGetHandleVerifier [0x006F6A0A+565546]\n\tGetHandleVerifier [0x006F5680+560544]\n\tOrdinal0 [0x005F9A5C+1808988]\n\tOrdinal0 [0x005FE3A8+1827752]\n\tOrdinal0 [0x005FE495+1827989]\n\tOrdinal0 [0x006080A4+1867940]\n\tBaseThreadInitThunk [0x7637FA29+25]\n\tRtlGetAppContainerNamedObjectPath [0x77A975F4+228]\n\tRtlGetAppContainerNamedObjectPath [0x77A975C4+180]\n"
     ]
    }
   ],
   "source": [
    "a.start()"
   ]
  },
  {
   "cell_type": "code",
   "execution_count": null,
   "id": "4e31af2e",
   "metadata": {},
   "outputs": [],
   "source": []
  },
  {
   "cell_type": "code",
   "execution_count": null,
   "id": "dd2e9d2e",
   "metadata": {},
   "outputs": [],
   "source": []
  }
 ],
 "metadata": {
  "kernelspec": {
   "display_name": "Python 3 (ipykernel)",
   "language": "python",
   "name": "python3"
  },
  "language_info": {
   "codemirror_mode": {
    "name": "ipython",
    "version": 3
   },
   "file_extension": ".py",
   "mimetype": "text/x-python",
   "name": "python",
   "nbconvert_exporter": "python",
   "pygments_lexer": "ipython3",
   "version": "3.9.12"
  }
 },
 "nbformat": 4,
 "nbformat_minor": 5
}
