{
 "cells": [
  {
   "cell_type": "code",
   "execution_count": 2,
   "id": "40b63ec1",
   "metadata": {},
   "outputs": [],
   "source": [
    "import time\n",
    "from selenium import webdriver\n",
    "from selenium.webdriver.chrome.service import Service\n",
    "from webdriver_manager.chrome import ChromeDriverManager\n",
    "from selenium.webdriver.common.by import By\n",
    "from selenium.webdriver import ActionChains\n",
    "from selenium.webdriver.support.ui import WebDriverWait\n",
    "from selenium.webdriver.support import expected_conditions as EC\n",
    "from selenium.webdriver.common.keys import Keys\n",
    "import pandas as pd"
   ]
  },
  {
   "cell_type": "code",
   "execution_count": 99,
   "id": "aa655954",
   "metadata": {},
   "outputs": [],
   "source": [
    "driver = webdriver.Chrome(service=Service(ChromeDriverManager().install()))\n",
    "driver.get(\"https://opentender.eu/all/search/tender\")\n",
    "\n",
    "time.sleep(2)\n",
    "\n",
    "#for hidden elements\n",
    "#driver.set_window_size(1024, 600)\n",
    "#driver.maximize_window()\n",
    "\n",
    "\n",
    "# Can use this to select more column fields, for now i am only extracting the basic data without selecting any columns.\n",
    "column_button_xpath = \"//*[@id=\\\"app\\\"]/search/search_tender/div[3]/div/tender-table/div[1]/select-columns-button/div/div/p[2]\"\n",
    "column_button_element = driver.find_element(By.XPATH, column_button_xpath)\n",
    "webdriver.ActionChains(driver).move_to_element(column_button_element).click(column_button_element).perform()\n",
    "\n",
    "\n",
    "\n",
    "#selecting 100 rows. per page\n",
    "more_result_xpath = \"//*[@id=\\\"entriesonpage\\\"]\"\n",
    "result_element = driver.find_element(By.XPATH, more_result_xpath)\n",
    "webdriver.ActionChains(driver).move_to_element(result_element ).click(result_element).perform()\n",
    "\n",
    "result_element.send_keys(Keys.ARROW_DOWN)\n",
    "result_element.send_keys(Keys.ARROW_DOWN)\n",
    "result_element.send_keys(Keys.ARROW_DOWN)\n",
    "result_element.send_keys(Keys.ENTER)\n",
    "\n",
    "\n",
    "time.sleep(2) #waiting for all the 100 rows to load\n",
    "\n",
    "\n",
    "#getting total number of pages.\n",
    "total_page_xpath = \"//*[@id=\\\"app\\\"]/search/search_tender/div[3]/div/tender-table/pagination/div[1]/div\"\n",
    "total_page = driver.find_element(By.XPATH, total_page_xpath)\n",
    "x = total_page.text[10:20]\n",
    "total_page_count = int(''.join(x for x in r if x.isdigit()))\n",
    "\n",
    "\n",
    "\n",
    "\n",
    "table_rows_xpath = \"//*[@id=\\\"table-top\\\"]/tbody/tr\"\n",
    "table_rows_element = driver.find_elements(By.XPATH, table_rows_xpath)\n",
    "\n",
    "rows = len(table_rows_element) #count number of rows\n",
    "\n",
    "td_xpath = \"//*[@id=\\\"table-top\\\"]/tbody/tr[1]/td\"\n",
    "column = len(driver.find_elements(By.XPATH, td_xpath)) #count number of columns in each row\n",
    "\n",
    "\n",
    "\n",
    "counter = 1 \n",
    " \n",
    "\n",
    "    \n",
    "\n",
    "def get_data_page(rows,column,counter):\n",
    "    \"\"\"Gets data from one page, writes to csv  and clicks the next page button\"\"\"\n",
    "    table_data = []\n",
    "    for r in range(1,rows+1):\n",
    "        row_data = []\n",
    "\n",
    "        for c in range(1,column+1):   \n",
    "            value = driver.find_element(By.XPATH,\"//*[@id=\\\"table-top\\\"]/tbody/tr[\"+str(r)+\"]/td[\"+str(c)+\"]\" ).text.strip()\n",
    "            row_data.append(value)\n",
    "\n",
    "        table_data.append(row_data)\n",
    "        \n",
    "        #write the table_data to csv\n",
    "        df = pd.DataFrame(table_data)\n",
    "        df.to_csv(f'file{counter}.csv',index = False)\n",
    "    \n",
    "    next_page_button = driver.find_element(By.CLASS_NAME, \"page-next\")\n",
    "    webdriver.ActionChains(driver).move_to_element(next_page_button).click(next_page_button).perform()\n",
    "    time.sleep(2)\n",
    "\n",
    "\n",
    "\n",
    "while counter <=total_page_count:\n",
    "    get_data_page(rows,column,counter)\n",
    "    counter+=1\n",
    "    \n",
    "    \n",
    "\n",
    "\n"
   ]
  },
  {
   "cell_type": "code",
   "execution_count": 100,
   "id": "220d180a",
   "metadata": {},
   "outputs": [],
   "source": [
    "\n",
    "df = pd.DataFrame(table_data)"
   ]
  },
  {
   "cell_type": "code",
   "execution_count": 104,
   "id": "7fe45823",
   "metadata": {},
   "outputs": [
    {
     "data": {
      "text/plain": [
       "0                                                     \n",
       "1                                                     \n",
       "2    Instituto do Emprego e da Formação Profissiona...\n",
       "3                          Lot 2\\nOPTIMIZE DREAM, LDA.\n",
       "4           Lot 1 Bid 1\\n€ 4,940\\nLot 2 Bid 1\\n€ 4,940\n",
       "Name: 99, dtype: object"
      ]
     },
     "metadata": {},
     "output_type": "display_data"
    }
   ],
   "source": [
    "display(df.iloc[99])"
   ]
  },
  {
   "cell_type": "code",
   "execution_count": 93,
   "id": "2240b794",
   "metadata": {},
   "outputs": [
    {
     "data": {
      "text/plain": [
       "'file483573'"
      ]
     },
     "execution_count": 93,
     "metadata": {},
     "output_type": "execute_result"
    }
   ],
   "source": [
    "file_name"
   ]
  },
  {
   "cell_type": "code",
   "execution_count": null,
   "id": "8aee3c64",
   "metadata": {},
   "outputs": [],
   "source": []
  }
 ],
 "metadata": {
  "kernelspec": {
   "display_name": "Python 3 (ipykernel)",
   "language": "python",
   "name": "python3"
  },
  "language_info": {
   "codemirror_mode": {
    "name": "ipython",
    "version": 3
   },
   "file_extension": ".py",
   "mimetype": "text/x-python",
   "name": "python",
   "nbconvert_exporter": "python",
   "pygments_lexer": "ipython3",
   "version": "3.9.12"
  }
 },
 "nbformat": 4,
 "nbformat_minor": 5
}
