{
 "cells": [
  {
   "cell_type": "code",
   "execution_count": 1,
   "id": "98e4b758",
   "metadata": {},
   "outputs": [],
   "source": [
    "#!pip install selenium --quiet"
   ]
  },
  {
   "cell_type": "code",
   "execution_count": 2,
   "id": "69185b6c",
   "metadata": {},
   "outputs": [],
   "source": [
    "#!pip install beautifulsoup4 --quiet"
   ]
  },
  {
   "cell_type": "code",
   "execution_count": 3,
   "id": "c09a65ef",
   "metadata": {},
   "outputs": [],
   "source": [
    "#!pip3 install webdriver-manager --quiet"
   ]
  },
  {
   "cell_type": "code",
   "execution_count": 4,
   "id": "2f823a05",
   "metadata": {},
   "outputs": [],
   "source": [
    "location_tosearch = \"India\"              #LOCATION\n",
    "job_category= \"Data Science\"             #JOB CATEGORY "
   ]
  },
  {
   "cell_type": "code",
   "execution_count": 5,
   "id": "d1fc5f56",
   "metadata": {},
   "outputs": [],
   "source": [
    "from selenium import webdriver\n",
    "import time\n",
    "from bs4 import BeautifulSoup\n",
    "import pandas as pd\n",
    "from selenium.webdriver.common.keys import Keys\n",
    "from selenium.webdriver.chrome.service import Service\n",
    "from webdriver_manager.chrome import ChromeDriverManager\n",
    "from selenium.webdriver import ActionChains\n",
    "from selenium.webdriver.support.ui import WebDriverWait\n",
    "from selenium.webdriver.support import expected_conditions as EC\n",
    "from selenium.common.exceptions import NoSuchElementException, NoSuchWindowException, StaleElementReferenceException, TimeoutException\n",
    "from selenium.webdriver.common.by import By\n"
   ]
  },
  {
   "cell_type": "code",
   "execution_count": 6,
   "id": "f9a69229",
   "metadata": {},
   "outputs": [],
   "source": [
    "# Open browser\n",
    "driver = webdriver.Chrome(service=Service(ChromeDriverManager().install()))\n",
    "# Opening linkedin/jobs website\n",
    "driver.get(\"https://in.linkedin.com/jobs\")\n",
    "## waiting load the webpage , can change depending on internet speed.\n",
    "time.sleep(2)\n",
    "\n",
    "#Maximizing browser window to avoid hidden elements\n",
    "driver.set_window_size(1024, 600)\n",
    "driver.maximize_window()"
   ]
  },
  {
   "cell_type": "code",
   "execution_count": 7,
   "id": "25db43e6",
   "metadata": {},
   "outputs": [],
   "source": [
    "\n",
    "\n",
    "\n",
    "#type job_category in search field\n",
    "job_search_element_name = \"keywords\"\n",
    "driver.find_element(By.NAME, job_search_element_name).send_keys(job_category)\n",
    "\n",
    "\n",
    "#type location in location field\n",
    "delete_current_location = driver.find_element(By.XPATH,\"//*[@id=\\\"JOBS\\\"]/section[2]/button/icon\").click()\n",
    "location_element = driver.find_element(By.XPATH, \"//*[@id=\\\"JOBS\\\"]/section[2]/input\")\n",
    "location_element.send_keys(location_tosearch)\n"
   ]
  },
  {
   "cell_type": "code",
   "execution_count": 8,
   "id": "7a3dc5ca",
   "metadata": {},
   "outputs": [],
   "source": [
    "#find the job-search button!\n",
    "button_xpath = \"//*[@id=\\\"main-content\\\"]/section[1]/div/section/div[2]/button[2]\"\n",
    "button_element = driver.find_element(By.XPATH, button_xpath)\n",
    "\n",
    "#click search button!\n",
    "webdriver.ActionChains(driver).move_to_element(button_element ).click(button_element ).perform()\n",
    "\n",
    "\n",
    "# time to load the page\n",
    "#can be lowered depdending on computer,internet speed\n",
    "time.sleep(3)\n"
   ]
  },
  {
   "cell_type": "code",
   "execution_count": 9,
   "id": "0f522754",
   "metadata": {
    "scrolled": true
   },
   "outputs": [],
   "source": [
    "#scrolling the page\n",
    "\n",
    "#Can add EC wait here and check for \"View More Jobs\" button , or click on button and get more results .\n",
    "\n",
    "def scroll_to_max(driver):\n",
    "    SCROLL_PAUSE_TIME = 5 #5 seconds\n",
    "    time.sleep(SCROLL_PAUSE_TIME)\n",
    "\n",
    "    # Get scroll height\n",
    "    last_height = driver.execute_script(\"return document.body.scrollHeight\")\n",
    "\n",
    "    for x in range(0, 10):\n",
    "        driver.execute_script(\"window.scrollTo(0, document.body.scrollHeight);\")\n",
    "        driver.find_element(By.XPATH, \"//body\").send_keys(Keys.ARROW_UP)\n",
    "        time.sleep(SCROLL_PAUSE_TIME)\n",
    "        new_height = driver.execute_script(\"return document.body.scrollHeight\")\n",
    "        #print('current Y: ' + str(new_height))\n",
    "        if new_height == last_height:\n",
    "            break\n",
    "        last_height = new_height\n",
    "\n",
    "scroll_to_max(driver)"
   ]
  },
  {
   "cell_type": "code",
   "execution_count": 10,
   "id": "cdf1abf6",
   "metadata": {},
   "outputs": [],
   "source": [
    "#empty data-structures to save data\n",
    "visited_url = set () #check in constant time\n",
    "job_details_dict = {}\n",
    "\n",
    "#fuction to save the extracted data\n",
    "def save_data(clean_company_url, company_name, job_location, job_role,description,employee):\n",
    "    job_details_list = [company_name, job_location, job_role,description,employee]\n",
    "    job_details_dict[clean_company_url] = job_details_list\n",
    "    print(company_name)"
   ]
  },
  {
   "cell_type": "code",
   "execution_count": 11,
   "id": "fc82fd16",
   "metadata": {},
   "outputs": [],
   "source": [
    "#Function to extract post urls from job search page and save in a list.\n",
    "job_post_urls = []\n",
    "def extract_job_post_url(driver):\n",
    "    page_source = BeautifulSoup(driver.page_source)\n",
    "    job_post = page_source.find_all(\"a\", class_ =\"base-card__full-link\")\n",
    "    for url in job_post:\n",
    "        url = url.get(\"href\")\n",
    "        clean_url = url.split(\"?\")[0]\n",
    "        job_post_urls.append(clean_url)\n",
    "        \n",
    "\n",
    "#Function call\n",
    "extract_job_post_url(driver)    "
   ]
  },
  {
   "cell_type": "code",
   "execution_count": 12,
   "id": "57f2dd39",
   "metadata": {},
   "outputs": [],
   "source": [
    "#Function - Extracts Job Info FROM URL\n",
    "def extractor_l1(url):\n",
    "    while True:\n",
    "\n",
    "        print(\"Visiting  -> Job Post Page\")\n",
    "        job_page = driver.get(url)\n",
    "        time.sleep(2)\n",
    "        current_url = driver.current_url\n",
    "        if current_url == url:\n",
    "\n",
    "            #Getting jobrole!\n",
    "\n",
    "            job_role_xpath = \"//*[@id=\\\"main-content\\\"]/section[1]/div/section[2]/div/div[1]/div/h1\"\n",
    "            job_role_element = WebDriverWait(driver, 5).until(EC.presence_of_element_located(\n",
    "                (By.XPATH, job_role_xpath)))\n",
    "            job_role = (job_role_element.get_attribute('innerHTML')).strip()\n",
    "\n",
    "            #Getting job location!\n",
    "\n",
    "            job_location_xpath = \"//*[@id=\\\"main-content\\\"]/section[1]/div/section[2]/div/div[1]/div/h4/div[1]/span[2]\"\n",
    "            job_location_element =  WebDriverWait(driver, 5).until(EC.presence_of_element_located(\n",
    "                (By.XPATH, job_location_xpath)))\n",
    "            job_location = (job_location_element.get_attribute('innerHTML')).strip()\n",
    "\n",
    "            #Getting company name and url \n",
    "\n",
    "            company_name_xpath = \"//*[@id=\\\"main-content\\\"]/section[1]/div/section[2]/div/div[1]/div/h4/div[1]/span[1]/a\"\n",
    "            company_name_element = WebDriverWait(driver, 5).until(EC.presence_of_element_located(\n",
    "                (By.XPATH, company_name_xpath)))\n",
    "            company_name = (company_name_element.get_attribute('innerHTML')).strip()\n",
    "            company_url = company_name_element.get_attribute('href')\n",
    "            clean_company_url =  company_url.split(\"?\")[0]\n",
    "\n",
    "            #Adding the url to visited url                                                     \n",
    "            visited_url.add(url)\n",
    "\n",
    "            return (job_role,job_location,company_name,clean_company_url)\n",
    "        \n",
    "        else:\n",
    "            print(\"Login Requested- retrying In different tab\")\n",
    "            time.sleep(2)\n",
    "            driver.switch_to.new_window('tab')\n",
    "            driver.switch_to.window(driver.window_handles[0])\n",
    "            driver.close()\n",
    "            driver.switch_to.window(driver.window_handles[0])\n",
    "\n"
   ]
  },
  {
   "cell_type": "code",
   "execution_count": 16,
   "id": "6f1e49af",
   "metadata": {},
   "outputs": [],
   "source": [
    "\n",
    "#Function EXtract Info from Company Page (Description and Employee)\n",
    "def get_description(url,company_name):\n",
    "    counter = 0\n",
    "    while True:\n",
    "    \n",
    "        \n",
    "        print(\"Visiting  -> %s\")%(company_name)\n",
    "        \n",
    "        company_page = driver.get(url)\n",
    "        time.sleep(2)\n",
    "        current_url = driver.current_url\n",
    "        \n",
    "        if current_url == url:\n",
    "             \n",
    "            try:\n",
    "                \n",
    "                desc_xpath = \"//*[@id=\\\"main-content\\\"]/section[1]/div/section[1]/div/p\"\n",
    "                desc_element = WebDriverWait(driver, 10).until(EC.presence_of_element_located(\n",
    "                    (By.XPATH, desc_xpath,)))\n",
    "                \n",
    "                description = (desc_element.get_attribute('innerHTML')).strip()\n",
    "                \n",
    "                employee_expath = \"//*[@id=\\\"main-content\\\"]/section[1]/section/div/div[2]/div[2]/ul/li/div/a\"\n",
    "                employee_element = driver.find_element(By.XPATH, employee_expath)\n",
    "                employee = (employee_element.get_attribute('innerHTML')).strip()\n",
    "                employee = ''.join(filter(lambda i: i.isdigit(), employee))\n",
    "                \n",
    "                return description,employee\n",
    "\n",
    "            except TimeoutException as timeout:\n",
    "                print(\"Failed\")\n",
    "                description = \"n/a\"\n",
    "                employee = \"n/a\"\n",
    "                return (description, employee)\n",
    "        else:\n",
    "            \n",
    "            print(\"Login Requested- retrying In different tab\")\n",
    "            time.sleep(10)\n",
    "            driver.switch_to.new_window('tab')\n",
    "            driver.switch_to.window(driver.window_handles[0])\n",
    "            driver.close()\n",
    "            driver.switch_to.window(driver.window_handles[0])\n",
    "            time.sleep(2)\n",
    "            \n",
    "            \n",
    "    \n",
    "    \n",
    "    \n",
    "    "
   ]
  },
  {
   "cell_type": "code",
   "execution_count": 17,
   "id": "69141ef8",
   "metadata": {},
   "outputs": [],
   "source": [
    "#Taking all the data and calling the save function!\n",
    "\n",
    "def final_step(job_role,job_location,company_name,clean_company_url):\n",
    "    description,employee = get_description(clean_company_url,company_name)\n",
    "    save_data(clean_company_url, company_name, job_location, job_role, description,employee)"
   ]
  },
  {
   "cell_type": "code",
   "execution_count": null,
   "id": "a9429e3f",
   "metadata": {},
   "outputs": [],
   "source": []
  },
  {
   "cell_type": "code",
   "execution_count": 18,
   "id": "fbfb739b",
   "metadata": {},
   "outputs": [
    {
     "name": "stdout",
     "output_type": "stream",
     "text": [
      "already visited\n",
      "Visiting  -> Job Post Page\n",
      "Visiting  -> Company Page\n",
      "Visiting  -> Company Page\n",
      "Visiting  -> Company Page\n",
      "Visiting  -> Company Page\n",
      "Visiting  -> Company Page\n",
      "Visiting  -> Company Page\n",
      "Visiting  -> Company Page\n",
      "Visiting  -> Company Page\n",
      "Visiting  -> Company Page\n",
      "Visiting  -> Company Page\n",
      "Visiting  -> Company Page\n",
      "Visiting  -> Company Page\n",
      "Visiting  -> Company Page\n",
      "Everi Holdings Inc.\n",
      "Visiting  -> Job Post Page\n",
      "Visiting  -> Company Page\n",
      "Corizo\n",
      "Visiting  -> Job Post Page\n",
      "Visiting  -> Company Page\n",
      "SkillVertex\n",
      "Visiting  -> Job Post Page\n",
      "Visiting  -> Company Page\n",
      "Visiting  -> Company Page\n",
      "Visiting  -> Company Page\n",
      "Visiting  -> Company Page\n",
      "Visiting  -> Company Page\n",
      "Visiting  -> Company Page\n",
      "Visiting  -> Company Page\n",
      "Visiting  -> Company Page\n",
      "Visiting  -> Company Page\n"
     ]
    },
    {
     "ename": "KeyboardInterrupt",
     "evalue": "",
     "output_type": "error",
     "traceback": [
      "\u001b[1;31m---------------------------------------------------------------------------\u001b[0m",
      "\u001b[1;31mKeyboardInterrupt\u001b[0m                         Traceback (most recent call last)",
      "\u001b[1;32m~\\AppData\\Local\\Temp/ipykernel_1524/3275946061.py\u001b[0m in \u001b[0;36m<module>\u001b[1;34m\u001b[0m\n\u001b[0;32m      6\u001b[0m         \u001b[1;32mcontinue\u001b[0m\u001b[1;33m\u001b[0m\u001b[1;33m\u001b[0m\u001b[0m\n\u001b[0;32m      7\u001b[0m     \u001b[0mjob_role\u001b[0m\u001b[1;33m,\u001b[0m\u001b[0mjob_location\u001b[0m\u001b[1;33m,\u001b[0m\u001b[0mcompany_name\u001b[0m\u001b[1;33m,\u001b[0m\u001b[0mclean_company_url\u001b[0m \u001b[1;33m=\u001b[0m \u001b[1;33m(\u001b[0m\u001b[0mextractor_l1\u001b[0m\u001b[1;33m(\u001b[0m\u001b[0murl\u001b[0m\u001b[1;33m)\u001b[0m\u001b[1;33m)\u001b[0m\u001b[1;33m\u001b[0m\u001b[1;33m\u001b[0m\u001b[0m\n\u001b[1;32m----> 8\u001b[1;33m     \u001b[0mfinal_step\u001b[0m\u001b[1;33m(\u001b[0m\u001b[0mjob_role\u001b[0m\u001b[1;33m,\u001b[0m\u001b[0mjob_location\u001b[0m\u001b[1;33m,\u001b[0m\u001b[0mcompany_name\u001b[0m\u001b[1;33m,\u001b[0m\u001b[0mclean_company_url\u001b[0m\u001b[1;33m)\u001b[0m\u001b[1;33m\u001b[0m\u001b[1;33m\u001b[0m\u001b[0m\n\u001b[0m\u001b[0;32m      9\u001b[0m \u001b[1;33m\u001b[0m\u001b[0m\n\u001b[0;32m     10\u001b[0m \u001b[1;33m\u001b[0m\u001b[0m\n",
      "\u001b[1;32m~\\AppData\\Local\\Temp/ipykernel_1524/1771733903.py\u001b[0m in \u001b[0;36mfinal_step\u001b[1;34m(job_role, job_location, company_name, clean_company_url)\u001b[0m\n\u001b[0;32m      2\u001b[0m \u001b[1;33m\u001b[0m\u001b[0m\n\u001b[0;32m      3\u001b[0m \u001b[1;32mdef\u001b[0m \u001b[0mfinal_step\u001b[0m\u001b[1;33m(\u001b[0m\u001b[0mjob_role\u001b[0m\u001b[1;33m,\u001b[0m\u001b[0mjob_location\u001b[0m\u001b[1;33m,\u001b[0m\u001b[0mcompany_name\u001b[0m\u001b[1;33m,\u001b[0m\u001b[0mclean_company_url\u001b[0m\u001b[1;33m)\u001b[0m\u001b[1;33m:\u001b[0m\u001b[1;33m\u001b[0m\u001b[1;33m\u001b[0m\u001b[0m\n\u001b[1;32m----> 4\u001b[1;33m     \u001b[0mdescription\u001b[0m\u001b[1;33m,\u001b[0m\u001b[0memployee\u001b[0m \u001b[1;33m=\u001b[0m \u001b[0mget_description\u001b[0m\u001b[1;33m(\u001b[0m\u001b[0mclean_company_url\u001b[0m\u001b[1;33m)\u001b[0m\u001b[1;33m\u001b[0m\u001b[1;33m\u001b[0m\u001b[0m\n\u001b[0m\u001b[0;32m      5\u001b[0m     \u001b[0msave_data\u001b[0m\u001b[1;33m(\u001b[0m\u001b[0mclean_company_url\u001b[0m\u001b[1;33m,\u001b[0m \u001b[0mcompany_name\u001b[0m\u001b[1;33m,\u001b[0m \u001b[0mjob_location\u001b[0m\u001b[1;33m,\u001b[0m \u001b[0mjob_role\u001b[0m\u001b[1;33m,\u001b[0m \u001b[0mdescription\u001b[0m\u001b[1;33m,\u001b[0m\u001b[0memployee\u001b[0m\u001b[1;33m)\u001b[0m\u001b[1;33m\u001b[0m\u001b[1;33m\u001b[0m\u001b[0m\n",
      "\u001b[1;32m~\\AppData\\Local\\Temp/ipykernel_1524/611186256.py\u001b[0m in \u001b[0;36mget_description\u001b[1;34m(url)\u001b[0m\n\u001b[0;32m     35\u001b[0m         \u001b[1;32melse\u001b[0m\u001b[1;33m:\u001b[0m\u001b[1;33m\u001b[0m\u001b[1;33m\u001b[0m\u001b[0m\n\u001b[0;32m     36\u001b[0m             \u001b[1;31m#driver.close()\u001b[0m\u001b[1;33m\u001b[0m\u001b[1;33m\u001b[0m\u001b[0m\n\u001b[1;32m---> 37\u001b[1;33m             \u001b[0mtime\u001b[0m\u001b[1;33m.\u001b[0m\u001b[0msleep\u001b[0m\u001b[1;33m(\u001b[0m\u001b[1;36m10\u001b[0m\u001b[1;33m)\u001b[0m\u001b[1;33m\u001b[0m\u001b[1;33m\u001b[0m\u001b[0m\n\u001b[0m\u001b[0;32m     38\u001b[0m             \u001b[1;31m#driver.switch_to.window(driver.window_handles[1])\u001b[0m\u001b[1;33m\u001b[0m\u001b[1;33m\u001b[0m\u001b[0m\n\u001b[0;32m     39\u001b[0m             \u001b[0mdriver\u001b[0m\u001b[1;33m.\u001b[0m\u001b[0mswitch_to\u001b[0m\u001b[1;33m.\u001b[0m\u001b[0mnew_window\u001b[0m\u001b[1;33m(\u001b[0m\u001b[1;34m'tab'\u001b[0m\u001b[1;33m)\u001b[0m\u001b[1;33m\u001b[0m\u001b[1;33m\u001b[0m\u001b[0m\n",
      "\u001b[1;31mKeyboardInterrupt\u001b[0m: "
     ]
    }
   ],
   "source": [
    "#Get Data from Job Post Urls:\n",
    "\n",
    "for url in job_post_urls:\n",
    "    if url in visited_url:\n",
    "        print(\"already visited\")\n",
    "        continue\n",
    "    job_role,job_location,company_name,clean_company_url = (extractor_l1(url))\n",
    "    final_step(job_role,job_location,company_name,clean_company_url)\n",
    "\n",
    "    \n",
    "    \n",
    "  "
   ]
  },
  {
   "cell_type": "code",
   "execution_count": null,
   "id": "ccc9d3cb",
   "metadata": {},
   "outputs": [],
   "source": []
  },
  {
   "cell_type": "code",
   "execution_count": null,
   "id": "b7209831",
   "metadata": {
    "scrolled": true
   },
   "outputs": [],
   "source": []
  },
  {
   "cell_type": "code",
   "execution_count": null,
   "id": "f4f95fcc",
   "metadata": {},
   "outputs": [],
   "source": []
  },
  {
   "cell_type": "code",
   "execution_count": null,
   "id": "7f508983",
   "metadata": {},
   "outputs": [],
   "source": []
  },
  {
   "cell_type": "code",
   "execution_count": null,
   "id": "42931b31",
   "metadata": {},
   "outputs": [],
   "source": []
  },
  {
   "cell_type": "code",
   "execution_count": null,
   "id": "edd4471c",
   "metadata": {},
   "outputs": [],
   "source": []
  },
  {
   "cell_type": "code",
   "execution_count": null,
   "id": "79284c8e",
   "metadata": {},
   "outputs": [],
   "source": []
  },
  {
   "cell_type": "code",
   "execution_count": null,
   "id": "1fba9f6f",
   "metadata": {},
   "outputs": [],
   "source": [
    "\n"
   ]
  },
  {
   "cell_type": "code",
   "execution_count": null,
   "id": "f1104029",
   "metadata": {},
   "outputs": [],
   "source": []
  },
  {
   "cell_type": "code",
   "execution_count": null,
   "id": "9fe95b05",
   "metadata": {},
   "outputs": [],
   "source": []
  },
  {
   "cell_type": "code",
   "execution_count": null,
   "id": "0dbe50f0",
   "metadata": {},
   "outputs": [],
   "source": []
  },
  {
   "cell_type": "code",
   "execution_count": null,
   "id": "86785381",
   "metadata": {},
   "outputs": [],
   "source": []
  },
  {
   "cell_type": "code",
   "execution_count": null,
   "id": "7bb55c2f",
   "metadata": {},
   "outputs": [],
   "source": []
  },
  {
   "cell_type": "code",
   "execution_count": null,
   "id": "ad4ab66d",
   "metadata": {},
   "outputs": [],
   "source": []
  }
 ],
 "metadata": {
  "kernelspec": {
   "display_name": "Python 3 (ipykernel)",
   "language": "python",
   "name": "python3"
  },
  "language_info": {
   "codemirror_mode": {
    "name": "ipython",
    "version": 3
   },
   "file_extension": ".py",
   "mimetype": "text/x-python",
   "name": "python",
   "nbconvert_exporter": "python",
   "pygments_lexer": "ipython3",
   "version": "3.9.7"
  }
 },
 "nbformat": 4,
 "nbformat_minor": 5
}
