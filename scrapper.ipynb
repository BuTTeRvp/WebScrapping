{
 "cells": [
  {
   "cell_type": "code",
   "execution_count": 1,
   "id": "98e4b758",
   "metadata": {},
   "outputs": [],
   "source": [
    "#!pip install selenium "
   ]
  },
  {
   "cell_type": "code",
   "execution_count": 2,
   "id": "69185b6c",
   "metadata": {},
   "outputs": [],
   "source": [
    "#!pip install beautifulsoup4 --quiet"
   ]
  },
  {
   "cell_type": "code",
   "execution_count": 3,
   "id": "c09a65ef",
   "metadata": {},
   "outputs": [],
   "source": [
    "#!pip3 install webdriver-manager"
   ]
  },
  {
   "cell_type": "code",
   "execution_count": 32,
   "id": "4c94f9ad",
   "metadata": {},
   "outputs": [],
   "source": [
    "location_tosearch = \"India\"\n",
    "job_category= \"Data Science\""
   ]
  },
  {
   "cell_type": "code",
   "execution_count": 33,
   "id": "d1fc5f56",
   "metadata": {},
   "outputs": [],
   "source": [
    "from selenium import webdriver\n",
    "import time\n",
    "from selenium.webdriver.common.keys import Keys\n",
    "from bs4 import BeautifulSoup\n",
    "import pandas as pd\n",
    "from selenium.webdriver.chrome.service import Service\n",
    "from webdriver_manager.chrome import ChromeDriverManager\n",
    "from selenium.webdriver import ActionChains\n",
    "\n"
   ]
  },
  {
   "cell_type": "code",
   "execution_count": 34,
   "id": "f9a69229",
   "metadata": {},
   "outputs": [],
   "source": [
    "# Open browser\n",
    "driver = webdriver.Chrome(service=Service(ChromeDriverManager().install()))\n",
    "# Opening linkedin/jobs website\n",
    "driver.get(\"https://in.linkedin.com/jobs\")\n",
    "## waiting load the webpage , can change depending on internet speed.\n",
    "time.sleep(2)\n",
    "\n",
    "#Maximizing browser window to avoid hidden elements\n",
    "driver.set_window_size(1024, 600)\n",
    "driver.maximize_window()"
   ]
  },
  {
   "cell_type": "code",
   "execution_count": 35,
   "id": "0ca409ce",
   "metadata": {},
   "outputs": [],
   "source": [
    "\n",
    "job_search_element = \"keywords\"\n"
   ]
  },
  {
   "cell_type": "code",
   "execution_count": 36,
   "id": "9475b2be",
   "metadata": {},
   "outputs": [],
   "source": [
    "from selenium.webdriver.common.by import By"
   ]
  },
  {
   "cell_type": "code",
   "execution_count": 37,
   "id": "25db43e6",
   "metadata": {},
   "outputs": [],
   "source": [
    "#find the job-search button!\n",
    "button_xpath = \"//*[@id=\\\"main-content\\\"]/section[1]/div/section/div[2]/button[2]\"\n",
    "button_element = driver.find_element(By.XPATH, button_xpath)\n",
    "#type job_category in search field\n",
    "driver.find_element(By.NAME, job_search_element).send_keys(job_category)\n",
    "#location\n",
    "delete_current_location = driver.find_element(By.XPATH,\"//*[@id=\\\"JOBS\\\"]/section[2]/button/icon\").click()\n",
    "location_element = driver.find_element(By.XPATH, \"//*[@id=\\\"JOBS\\\"]/section[2]/input\")\n",
    "location_element.send_keys(location_tosearch)\n",
    "\n",
    "\n",
    "\n"
   ]
  },
  {
   "cell_type": "code",
   "execution_count": 38,
   "id": "7a3dc5ca",
   "metadata": {},
   "outputs": [],
   "source": [
    "\n",
    "#click search button!\n",
    "webdriver.ActionChains(driver).move_to_element(button_element ).click(button_element ).perform()"
   ]
  },
  {
   "cell_type": "code",
   "execution_count": 39,
   "id": "3029183b",
   "metadata": {},
   "outputs": [],
   "source": [
    "#can be lowered depdending on computer,internet speed\n",
    "# time to load the page\n",
    "time.sleep(3)\n",
    "\n"
   ]
  },
  {
   "cell_type": "code",
   "execution_count": 40,
   "id": "0f522754",
   "metadata": {
    "scrolled": true
   },
   "outputs": [
    {
     "name": "stdout",
     "output_type": "stream",
     "text": [
      "current Y: 4211\n"
     ]
    }
   ],
   "source": [
    "#saving the url for job_category search \n",
    "job_search_url = driver.current_url\n",
    "    \n",
    "SCROLL_PAUSE_TIME = 5 #5 seconds\n",
    "time.sleep(SCROLL_PAUSE_TIME)\n",
    "\n",
    "# Get scroll height\n",
    "last_height = driver.execute_script(\"return document.body.scrollHeight\")\n",
    "\n",
    "for x in range(0, 10):\n",
    "    driver.execute_script(\"window.scrollTo(0, document.body.scrollHeight);\")\n",
    "    driver.find_element(By.XPATH, \"//body\").send_keys(Keys.ARROW_UP)\n",
    "    time.sleep(SCROLL_PAUSE_TIME)\n",
    "    new_height = driver.execute_script(\"return document.body.scrollHeight\")\n",
    "    print('current Y: ' + str(new_height))\n",
    "    if new_height == last_height:\n",
    "        break\n",
    "    last_height = new_height"
   ]
  },
  {
   "cell_type": "code",
   "execution_count": 41,
   "id": "cdf1abf6",
   "metadata": {},
   "outputs": [],
   "source": [
    "#empty data-structures to save data\n",
    "visited_url = set () #check in constant time\n",
    "job_details_dict = {}\n",
    "\n",
    "def save_data(company_url, company_name, job_location, job_role,description,employee):\n",
    "    job_details_list = [company_name, job_location, job_role,description,company_url,employee]\n",
    "    job_details_dict[company_url] = job_details_list"
   ]
  },
  {
   "cell_type": "code",
   "execution_count": 42,
   "id": "59f9723b",
   "metadata": {},
   "outputs": [],
   "source": [
    "job_post_urls = []\n",
    "page_source = BeautifulSoup(driver.page_source)\n",
    "job_post = page_source.find_all(\"a\", class_ =\"base-card__full-link\")\n",
    "for url in job_post:\n",
    "    url = url.get(\"href\")\n",
    "    job_post_urls.append(url)\n",
    "    \n",
    "    \n",
    "    \n",
    "    \n",
    "    "
   ]
  },
  {
   "cell_type": "code",
   "execution_count": null,
   "id": "0454a10e",
   "metadata": {},
   "outputs": [],
   "source": []
  },
  {
   "cell_type": "code",
   "execution_count": 43,
   "id": "fb590d62",
   "metadata": {},
   "outputs": [],
   "source": [
    "#visit the company page with company url to get description\n",
    "def get_discrition(url):\n",
    "    counter = 0\n",
    "    while counter <5:\n",
    "    \n",
    "        \n",
    "        print(\"Driver -> Company Page\")\n",
    "        \n",
    "        company_page = driver.get(url)\n",
    "        time.sleep(4)\n",
    "        current_url = driver.current_url\n",
    "        \n",
    "        if current_url == url:\n",
    "            description = \"n/a\"\n",
    "            employee = \"\"\n",
    "            print(\"getting Data)\")\n",
    "            #desc_xpath = \"//*[@id=\\\"main-content\\\"]/section[*]/div/section[*]/div/p\"\n",
    "            #desc_element = driver.find_element(By.XPATH, desc_xpath)\n",
    "            #desc_element = driver.find_element(By.CLASS_NAME, \"about-us__description\",)                break-words whitespace-pre-wrap\n",
    "            try:\n",
    "                desc_element = WebDriverWait(driver, 5).until(EC.presence_of_element_located((By.CLASS_NAME, \"break-words whitespace-pre-wrap\",)))\n",
    "                #desc_element = driver.find_element(By.CLASS_NAME, \"break-words whitespace-pre-wrap\",)\n",
    "                description = (desc_element.get_attribute('innerHTML')).strip()\n",
    "                employee_expath = \"//*[@id=\\\"main-content\\\"]/section[1]/section/div/div[2]/div[2]/ul/li/div/a\"\n",
    "                employee_element = driver.find_element(By.XPATH, employee_expath)\n",
    "                employee = (employee_element.get_attribute('innerHTML')).strip()\n",
    "                \n",
    "                \n",
    "            except TimeoutException as timeout:\n",
    "                \n",
    "                try:\n",
    "                \n",
    "                    #desc_xpath = \"//*[@id=\\\"main-content\\\"]/section[*]/div/section[*]/div/p\"\n",
    "                    #desc_element = driver.find_element(By.XPATH, desc_xpath)\n",
    "                    desc_element = WebDriverWait(driver, 5).until(EC.presence_of_element_located((By.CLASS_NAME, \"about-us__description\",)))\n",
    "                    #desc_element = driver.find_element(By.CLASS_NAME, \"about-us__description\",)\n",
    "                    description = (desc_element.get_attribute('innerHTML')).strip()\n",
    "\n",
    "                except TimeoutException as timeout:\n",
    "                    return (description, employee)\n",
    "            #time.sleep(2)\n",
    "            #print(\"closing window\")\n",
    "            #driver.close()\n",
    "            #print(\"switching to original_tab\")\n",
    "\n",
    "            #driver.switch_to.window(original_window)\n",
    "\n",
    "            return (description,employee)\n",
    "        else:\n",
    "            #driver.close()\n",
    "            time.sleep(10)\n",
    "            #driver.switch_to.window(driver.window_handles[1])\n",
    "            driver.switch_to.new_window('tab')\n",
    "            driver.switch_to.window(driver.window_handles[0])\n",
    "            driver.close()\n",
    "            driver.switch_to.window(driver.window_handles[0])\n",
    "\n",
    "            time.sleep(2)\n",
    "            \n",
    "            counter+=1\n",
    "            continue\n",
    "            \n",
    "    "
   ]
  },
  {
   "cell_type": "code",
   "execution_count": 44,
   "id": "dfb85a6a",
   "metadata": {},
   "outputs": [],
   "source": [
    "from selenium.webdriver.support.ui import WebDriverWait\n",
    "from selenium.webdriver.support import expected_conditions as EC\n",
    "from selenium.common.exceptions import NoSuchElementException\n",
    "from selenium.common.exceptions import NoSuchWindowException\n",
    "from selenium.common.exceptions import StaleElementReferenceException\n",
    "from selenium.common.exceptions import TimeoutException\n"
   ]
  },
  {
   "cell_type": "code",
   "execution_count": null,
   "id": "936f13dc",
   "metadata": {},
   "outputs": [
    {
     "name": "stdout",
     "output_type": "stream",
     "text": [
      "Data Scientist\n",
      "India\n",
      "HRPG Intern\n",
      "Switching to original tab\n",
      "Driver -> Company Page\n",
      "getting Data)\n",
      "Data Science Intern\n",
      "India\n",
      "Corizo\n",
      "Switching to original tab\n",
      "Driver -> Company Page\n",
      "getting Data)\n",
      "Data Scientist\n",
      "Bengaluru, Karnataka, India\n",
      "Rolls-Royce\n",
      "Switching to original tab\n",
      "Driver -> Company Page\n",
      "getting Data)\n",
      "Data Scientist\n",
      "Chennai, Tamil Nadu, India\n",
      "Rekha Khurana\n",
      "Switching to original tab\n",
      "Driver -> Company Page\n",
      "getting Data)\n",
      "Deep Learning Engineer\n",
      "Bangalore Urban, Karnataka, India\n",
      "Samsung Electro-Mechanics\n",
      "Switching to original tab\n",
      "Driver -> Company Page\n",
      "getting Data)\n",
      "Machine Learning Intern\n",
      "India\n",
      "Corizo\n",
      "Switching to original tab\n",
      "Driver -> Company Page\n",
      "getting Data)\n",
      "Artificial Intelligence Intern\n",
      "India\n",
      "Teachnook\n",
      "Switching to original tab\n",
      "Driver -> Company Page\n",
      "getting Data)\n",
      "Data Science Trainee\n",
      "New Delhi, Delhi, India\n",
      "MedTourEasy\n",
      "Switching to original tab\n",
      "Driver -> Company Page\n",
      "getting Data)\n",
      "Machine Learning Engineer\n",
      "Bengaluru, Karnataka, India\n",
      "ReFier\n",
      "Switching to original tab\n",
      "Driver -> Company Page\n"
     ]
    }
   ],
   "source": [
    "\n",
    "for url in job_post_urls:\n",
    "\n",
    "    if url in visited_url:\n",
    "        print(\"already visited\")\n",
    "        continue\n",
    "    #driver.switch_to.new_window('tab')\n",
    "    driver.get(url)\n",
    "    time.sleep(2)\n",
    "\n",
    "            #Getting jobrole!\n",
    "    job_role_xpath = \"//*[@id=\\\"main-content\\\"]/section[1]/div/section[2]/div/div[1]/div/h1\"\n",
    "    job_role_element = driver.find_element(By.XPATH, job_role_xpath)\n",
    "    job_role = (job_role_element.get_attribute('innerHTML')).strip()\n",
    "    print(job_role)    \n",
    "\n",
    "                #getting job location!\n",
    "    job_location_xpath = \"//*[@id=\\\"main-content\\\"]/section[1]/div/section[2]/div/div[1]/div/h4/div[1]/span[2]\"\n",
    "    job_location_element = driver.find_element(By.XPATH, job_location_xpath)\n",
    "    job_location = (job_location_element.get_attribute('innerHTML')).strip()\n",
    "    print(job_location)\n",
    "\n",
    "                #getting company name and url \n",
    "    company_name_xpath = \"//*[@id=\\\"main-content\\\"]/section[1]/div/section[2]/div/div[1]/div/h4/div[1]/span[1]/a\"\n",
    "    company_name_element = driver.find_element(By.XPATH, company_name_xpath)\n",
    "    company_name = (company_name_element.get_attribute('innerHTML')).strip()\n",
    "    company_url = company_name_element.get_attribute('href')\n",
    "    print(company_name)\n",
    "    time.sleep(2)\n",
    "    #print(\"closing window\")\n",
    "    #driver.close()\n",
    "    print(\"Switching to original tab\")\n",
    "    #driver.switch_to.window(original_window)\n",
    "    visited_url.add(url)\n",
    "    #time.sleep(2)\n",
    "\n",
    "\n",
    "\n",
    "\n",
    "    description,employee = get_discrition(company_url)\n",
    "    save_data(company_url, company_name, job_location, job_role, description,employee) "
   ]
  },
  {
   "cell_type": "code",
   "execution_count": null,
   "id": "fb73a611",
   "metadata": {},
   "outputs": [],
   "source": []
  },
  {
   "cell_type": "code",
   "execution_count": null,
   "id": "b7209831",
   "metadata": {
    "scrolled": true
   },
   "outputs": [],
   "source": [
    "\n",
    "\n",
    "    \n",
    "    \n",
    "    \n",
    "    "
   ]
  },
  {
   "cell_type": "code",
   "execution_count": null,
   "id": "f4f95fcc",
   "metadata": {},
   "outputs": [],
   "source": []
  },
  {
   "cell_type": "code",
   "execution_count": null,
   "id": "7f508983",
   "metadata": {},
   "outputs": [],
   "source": []
  },
  {
   "cell_type": "code",
   "execution_count": null,
   "id": "42931b31",
   "metadata": {},
   "outputs": [],
   "source": []
  },
  {
   "cell_type": "code",
   "execution_count": null,
   "id": "e1525e48",
   "metadata": {},
   "outputs": [],
   "source": [
    "\n",
    "len(job_details_dict)"
   ]
  },
  {
   "cell_type": "code",
   "execution_count": null,
   "id": "1cb27787",
   "metadata": {},
   "outputs": [],
   "source": []
  },
  {
   "cell_type": "code",
   "execution_count": null,
   "id": "edd4471c",
   "metadata": {},
   "outputs": [],
   "source": []
  },
  {
   "cell_type": "code",
   "execution_count": null,
   "id": "79284c8e",
   "metadata": {},
   "outputs": [],
   "source": []
  },
  {
   "cell_type": "code",
   "execution_count": null,
   "id": "df27c5b1",
   "metadata": {},
   "outputs": [],
   "source": [
    "\n",
    "\n",
    "\n"
   ]
  },
  {
   "cell_type": "code",
   "execution_count": null,
   "id": "cf720fdc",
   "metadata": {},
   "outputs": [],
   "source": []
  },
  {
   "cell_type": "code",
   "execution_count": null,
   "id": "1fba9f6f",
   "metadata": {},
   "outputs": [],
   "source": [
    "\n"
   ]
  },
  {
   "cell_type": "code",
   "execution_count": null,
   "id": "f1104029",
   "metadata": {},
   "outputs": [],
   "source": []
  },
  {
   "cell_type": "code",
   "execution_count": null,
   "id": "9fe95b05",
   "metadata": {},
   "outputs": [],
   "source": []
  },
  {
   "cell_type": "code",
   "execution_count": null,
   "id": "0dbe50f0",
   "metadata": {},
   "outputs": [],
   "source": []
  },
  {
   "cell_type": "code",
   "execution_count": null,
   "id": "86785381",
   "metadata": {},
   "outputs": [],
   "source": []
  },
  {
   "cell_type": "code",
   "execution_count": null,
   "id": "7bb55c2f",
   "metadata": {},
   "outputs": [],
   "source": []
  },
  {
   "cell_type": "code",
   "execution_count": null,
   "id": "ad4ab66d",
   "metadata": {},
   "outputs": [],
   "source": []
  }
 ],
 "metadata": {
  "kernelspec": {
   "display_name": "Python 3 (ipykernel)",
   "language": "python",
   "name": "python3"
  },
  "language_info": {
   "codemirror_mode": {
    "name": "ipython",
    "version": 3
   },
   "file_extension": ".py",
   "mimetype": "text/x-python",
   "name": "python",
   "nbconvert_exporter": "python",
   "pygments_lexer": "ipython3",
   "version": "3.9.7"
  }
 },
 "nbformat": 4,
 "nbformat_minor": 5
}
